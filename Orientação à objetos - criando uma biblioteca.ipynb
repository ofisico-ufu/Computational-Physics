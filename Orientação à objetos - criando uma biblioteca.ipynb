{
 "cells": [
  {
   "cell_type": "code",
   "execution_count": 9,
   "metadata": {},
   "outputs": [],
   "source": [
    "class aluno():\n",
    "\n",
    "    def __init__(self, nome, num_ufu):\n",
    "        #método de inicialização\n",
    "        self.nome = nome \n",
    "        self.num_ufu = num_ufu\n",
    "        self.notas = [] #lista vazia de notas\n",
    "    \n",
    "\n",
    "    def imprime_ficha(self):\n",
    "        print('Nome:', self.nome)\n",
    "        print('UFU:', self.num_ufu)\n",
    "        print('Notas:', self.notas)\n",
    "       \n",
    "    \n",
    "    def atribuir_nota(self, nota):\n",
    "        self.notas.append(nota)\n",
    "    \n",
    "   "
   ]
  },
  {
   "cell_type": "code",
   "execution_count": 10,
   "metadata": {},
   "outputs": [],
   "source": [
    "olavo = aluno(\"olavo viola\",\"123FIS45678\")\n",
    "pedro = aluno(\"pedro dornelas\", \"123FIS00000\")\n",
    "\n",
    "olavo.atribuir_nota(8)\n",
    "olavo.atribuir_nota(6)"
   ]
  },
  {
   "cell_type": "code",
   "execution_count": 11,
   "metadata": {},
   "outputs": [
    {
     "name": "stdout",
     "output_type": "stream",
     "text": [
      "Nome: olavo viola\n",
      "UFU: 123FIS45678\n",
      "Notas: [8, 6]\n"
     ]
    }
   ],
   "source": [
    "olavo.imprime_ficha()"
   ]
  }
 ],
 "metadata": {
  "kernelspec": {
   "display_name": "base",
   "language": "python",
   "name": "python3"
  },
  "language_info": {
   "codemirror_mode": {
    "name": "ipython",
    "version": 3
   },
   "file_extension": ".py",
   "mimetype": "text/x-python",
   "name": "python",
   "nbconvert_exporter": "python",
   "pygments_lexer": "ipython3",
   "version": "3.9.12"
  }
 },
 "nbformat": 4,
 "nbformat_minor": 2
}
